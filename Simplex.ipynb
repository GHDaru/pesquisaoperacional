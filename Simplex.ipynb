{
 "cells": [
  {
   "cell_type": "markdown",
   "metadata": {},
   "source": [
    "### Codigo para gerar SIMPLEX passo a passo"
   ]
  },
  {
   "cell_type": "code",
   "execution_count": 176,
   "metadata": {},
   "outputs": [],
   "source": [
    "#Bibliotecas\n",
    "from IPython.display import display, Markdown, Latex\n",
    "import numpy as np"
   ]
  },
  {
   "cell_type": "code",
   "execution_count": 174,
   "metadata": {},
   "outputs": [],
   "source": [
    "class SOLVER:\n",
    "    def __init__(self,tableau):\n",
    "        self.tableau_original = tableau\n",
    "        self.tableau_current = tableau\n",
    "        self.tableau = np.array(tableau)\n",
    "        self.num_rows = len(tableau)\n",
    "        self.num_cols = len(tableau[0])\n",
    "        self.num_vars = self.num_cols - self.num_rows\n",
    "        self.vars = { \"X_\"+str(i+1) : {\"type\": \"NB\" if i < self.num_vars else \"B\",\n",
    "                                      \"value\": 0 if i < self.num_vars else tableau[i-self.num_vars+1][-1],\n",
    "                                      \"row\": 0 if i<(self.num_cols-self.num_rows) else i-self.num_vars+1 } \n",
    "                     for i in range(self.num_cols-1)}\n",
    "    \n",
    "    def transformacao(self, L1, L2, c=1):         \n",
    "        return L1 + c*L2\n",
    "    \n",
    "    def multescalar(self, L, c):\n",
    "        return L * c\n",
    "    \n",
    "    def iteracao(self, linhapivo, colunapivo):\n",
    "        TN = self.tableau_current.copy()\n",
    "        TN[linhapivo] = multescalar(TN[linhapivo], 1/TN[linhapivo][colunapivo])\n",
    "        for i in range(self.num_rows):\n",
    "            if i != linhapivo and TN[i][colunapivo]!=0:\n",
    "                TN[i] = transformacao(TN[i],TN[linhapivo],-TN[i][colunapivo])\n",
    "        self.tableau_current = TN\n",
    "        self.update_dict(linhapivo,colunapivo)\n",
    "    \n",
    "    def update_dict(self, linhapivo, colunapivo):\n",
    "        variables = list(self.vars.keys())\n",
    "        pos = [self.vars[key]['row'] for key in self.vars.keys()]\n",
    "        #Entra na base\n",
    "        self.vars[variables[colunapivo]]['type']=\"B\"\n",
    "        self.vars[variables[colunapivo]]['value']=self.tableau_current[linhapivo][-1]\n",
    "        self.vars[variables[colunapivo]]['row']=linhapivo\n",
    "        #Sai da base\n",
    "        exit_var = variables[pos.index(linhapivo)] \n",
    "        self.vars[exit_var]['type'] = \"NB\"\n",
    "        self.vars[exit_var]['value']=0\n",
    "        self.vars[exit_var]['row'] = 0\n",
    "        \n",
    "    def checkotimalidade(self):\n",
    "        if min(self.tableau_current[0]) < 0:\n",
    "            return False\n",
    "        else:\n",
    "            return True\n",
    "        \n",
    "    def pivo(self):\n",
    "        colunapivo = self.tableau_current[0].index(min(self.tableau_current[0]))\n",
    "        b = [linha[-1] for linha in Tableau]\n",
    "        col = [linha[colunapivo] for linha in self.tableau_current]\n",
    "        linhapivo = 1\n",
    "        menor = -1\n",
    "        for lin in range(1,self.num_rows):\n",
    "            if col[lin] > 0:\n",
    "                temp = b[lin]/col[lin]\n",
    "                if menor < 0 or temp < menor:\n",
    "                    linhapivo = lin\n",
    "                    menor = temp\n",
    "        return linhapivo, colunapivo\n",
    "    \n",
    "    def solver(self, report = False):\n",
    "        iter = 0\n",
    "        self.tableau_current = self.tableau_original.copy()\n",
    "        while not self.checkotimalidade():            \n",
    "            if report:\n",
    "                self.printmatrix(\"Iteracao \" + str(iter+1) + ':')\n",
    "            linhapivo, colunapivo = self.pivo()\n",
    "            self.iteracao(linhapivo, colunapivo)\n",
    "            iter+=1\n",
    "        if report:\n",
    "            self.printmatrix(\"Iteracao \" + str(iter+1) + ':')\n",
    "    \n",
    "    def printsolution(self):\n",
    "        print(\"Função Objetivo:\",self.tableau_current[0][-1])\n",
    "        for key,value in self.vars.items():\n",
    "            print(key, \":\", value['value'])\n",
    "            \n",
    "    def printmatrix(self, leftlabel=\"\"):\n",
    "        variables = list(self.vars.keys())\n",
    "        pos = [self.vars[key]['row'] for key in self.vars.keys()]\n",
    "        \n",
    "        #Primeira Linha\n",
    "        code = r\"\\[ \" + leftlabel +r\"\\left[ \\left| \\begin{array}{c} Vars \\\\ Z \"\n",
    "        for lin in range(self.num_rows-1):\n",
    "            var = variables[pos.index(lin+1)]\n",
    "            code += r'\\\\' + var\n",
    "        code += r'\\end{array} \\right| '#\\right] \\]'\n",
    "        code += r'\\begin{array}{' + 'c'*(self.num_cols-1)+ '}'\n",
    "        #Cabeçalho\n",
    "        for j in range(self.num_cols-1):\n",
    "            code+= ' ' + variables[j] + ' & '\n",
    "        code += r' b \\\\'\n",
    "        for i in range(self.num_rows):\n",
    "            for j in range(self.num_cols):\n",
    "                code += '{:.2f}'.format(self.tableau_current[i][j]) \n",
    "                code += r' & ' if j<self.num_cols-1 else r'\\\\'\n",
    "        code+= r'\\end{array} \\right] \\]'\n",
    "        display(Latex(code))    \n",
    "        "
   ]
  },
  {
   "cell_type": "markdown",
   "metadata": {},
   "source": [
    "### Manual de Uso"
   ]
  },
  {
   "cell_type": "code",
   "execution_count": 177,
   "metadata": {},
   "outputs": [
    {
     "data": {
      "text/latex": [
       "\\[ Iteracao 1:\\left[ \\left| \\begin{array}{c} Vars \\\\ Z \\\\X_3\\\\X_4\\end{array} \\right| \\begin{array}{cccc} X_1 &  X_2 &  X_3 &  X_4 &  b \\\\-100.00 & -150.00 & 0.00 & 0.00 & 0.00\\\\1.00 & 1.00 & 1.00 & 0.00 & 10.00\\\\1.00 & 2.00 & 0.00 & 1.00 & 12.00\\\\\\end{array} \\right] \\]"
      ],
      "text/plain": [
       "<IPython.core.display.Latex object>"
      ]
     },
     "metadata": {},
     "output_type": "display_data"
    },
    {
     "data": {
      "text/latex": [
       "\\[ Iteracao 2:\\left[ \\left| \\begin{array}{c} Vars \\\\ Z \\\\X_3\\\\X_2\\end{array} \\right| \\begin{array}{cccc} X_1 &  X_2 &  X_3 &  X_4 &  b \\\\-25.00 & 0.00 & 0.00 & 75.00 & 900.00\\\\0.50 & 0.00 & 1.00 & -0.50 & 4.00\\\\0.50 & 1.00 & 0.00 & 0.50 & 6.00\\\\\\end{array} \\right] \\]"
      ],
      "text/plain": [
       "<IPython.core.display.Latex object>"
      ]
     },
     "metadata": {},
     "output_type": "display_data"
    },
    {
     "data": {
      "text/latex": [
       "\\[ Iteracao 3:\\left[ \\left| \\begin{array}{c} Vars \\\\ Z \\\\X_1\\\\X_2\\end{array} \\right| \\begin{array}{cccc} X_1 &  X_2 &  X_3 &  X_4 &  b \\\\0.00 & 0.00 & 50.00 & 50.00 & 1100.00\\\\1.00 & 0.00 & 2.00 & -1.00 & 8.00\\\\0.00 & 1.00 & -1.00 & 1.00 & 2.00\\\\\\end{array} \\right] \\]"
      ],
      "text/plain": [
       "<IPython.core.display.Latex object>"
      ]
     },
     "metadata": {},
     "output_type": "display_data"
    }
   ],
   "source": [
    "#Crie o TABLEAU do problema e armazene em uma variável\n",
    "Tableau = [[-100, -150, 0, 0,0],[1,1,1,0,10],[1,2,0,1,12]]\n",
    "#Crie um objeto da classe SOLVER passando como argumento o TABLEAU criado\n",
    "solver = SOLVER(Tableau)\n",
    "#Chame o método solver (se quiser imprimir passo a passo passar True senão deixar em branco)\n",
    "solver.solver(True)"
   ]
  },
  {
   "cell_type": "markdown",
   "metadata": {},
   "source": [
    "### Exemplos\n",
    "* Exercício 01 - Criado pelo professor\n",
    "* Exercício 02: Lista de Exercícios 2.3, pág. 59, Número 01\n",
    "* Exercício 03: Lista de Exercícios 2.4, pág. 68, Número 02\n",
    "* Exercício 04: Lista de Exercícios 2.4, pág. 68, Número 04\n",
    "\n"
   ]
  },
  {
   "cell_type": "code",
   "execution_count": 180,
   "metadata": {},
   "outputs": [
    {
     "name": "stdout",
     "output_type": "stream",
     "text": [
      "Exercício 01\n"
     ]
    },
    {
     "data": {
      "text/latex": [
       "\\[ Iteracao 1:\\left[ \\left| \\begin{array}{c} Vars \\\\ Z \\\\X_3\\\\X_4\\end{array} \\right| \\begin{array}{cccc} X_1 &  X_2 &  X_3 &  X_4 &  b \\\\-100.00 & -150.00 & 0.00 & 0.00 & 0.00\\\\1.00 & 1.00 & 1.00 & 0.00 & 10.00\\\\1.00 & 2.00 & 0.00 & 1.00 & 12.00\\\\\\end{array} \\right] \\]"
      ],
      "text/plain": [
       "<IPython.core.display.Latex object>"
      ]
     },
     "metadata": {},
     "output_type": "display_data"
    },
    {
     "data": {
      "text/latex": [
       "\\[ Iteracao 2:\\left[ \\left| \\begin{array}{c} Vars \\\\ Z \\\\X_3\\\\X_2\\end{array} \\right| \\begin{array}{cccc} X_1 &  X_2 &  X_3 &  X_4 &  b \\\\-25.00 & 0.00 & 0.00 & 75.00 & 900.00\\\\0.50 & 0.00 & 1.00 & -0.50 & 4.00\\\\0.50 & 1.00 & 0.00 & 0.50 & 6.00\\\\\\end{array} \\right] \\]"
      ],
      "text/plain": [
       "<IPython.core.display.Latex object>"
      ]
     },
     "metadata": {},
     "output_type": "display_data"
    },
    {
     "data": {
      "text/latex": [
       "\\[ Iteracao 3:\\left[ \\left| \\begin{array}{c} Vars \\\\ Z \\\\X_1\\\\X_2\\end{array} \\right| \\begin{array}{cccc} X_1 &  X_2 &  X_3 &  X_4 &  b \\\\0.00 & 0.00 & 50.00 & 50.00 & 1100.00\\\\1.00 & 0.00 & 2.00 & -1.00 & 8.00\\\\0.00 & 1.00 & -1.00 & 1.00 & 2.00\\\\\\end{array} \\right] \\]"
      ],
      "text/plain": [
       "<IPython.core.display.Latex object>"
      ]
     },
     "metadata": {},
     "output_type": "display_data"
    },
    {
     "name": "stdout",
     "output_type": "stream",
     "text": [
      "Exercício 02\n"
     ]
    },
    {
     "data": {
      "text/latex": [
       "\\[ Iteracao 1:\\left[ \\left| \\begin{array}{c} Vars \\\\ Z \\\\X_3\\\\X_4\\\\X_5\\\\X_6\\end{array} \\right| \\begin{array}{cccccc} X_1 &  X_2 &  X_3 &  X_4 &  X_5 &  X_6 &  b \\\\-4.00 & -3.00 & 0.00 & 0.00 & 0.00 & 0.00 & 0.00\\\\1.00 & 3.00 & 1.00 & 0.00 & 0.00 & 0.00 & 7.00\\\\2.00 & 2.00 & 0.00 & 1.00 & 0.00 & 0.00 & 8.00\\\\1.00 & 1.00 & 0.00 & 0.00 & 1.00 & 0.00 & 3.00\\\\0.00 & 1.00 & 0.00 & 0.00 & 0.00 & 1.00 & 2.00\\\\\\end{array} \\right] \\]"
      ],
      "text/plain": [
       "<IPython.core.display.Latex object>"
      ]
     },
     "metadata": {},
     "output_type": "display_data"
    },
    {
     "data": {
      "text/latex": [
       "\\[ Iteracao 2:\\left[ \\left| \\begin{array}{c} Vars \\\\ Z \\\\X_3\\\\X_4\\\\X_1\\\\X_6\\end{array} \\right| \\begin{array}{cccccc} X_1 &  X_2 &  X_3 &  X_4 &  X_5 &  X_6 &  b \\\\0.00 & 1.00 & 0.00 & 0.00 & 4.00 & 0.00 & 12.00\\\\0.00 & 2.00 & 1.00 & 0.00 & -1.00 & 0.00 & 4.00\\\\0.00 & 0.00 & 0.00 & 1.00 & -2.00 & 0.00 & 2.00\\\\1.00 & 1.00 & 0.00 & 0.00 & 1.00 & 0.00 & 3.00\\\\0.00 & 1.00 & 0.00 & 0.00 & 0.00 & 1.00 & 2.00\\\\\\end{array} \\right] \\]"
      ],
      "text/plain": [
       "<IPython.core.display.Latex object>"
      ]
     },
     "metadata": {},
     "output_type": "display_data"
    },
    {
     "name": "stdout",
     "output_type": "stream",
     "text": [
      "Exercício 03\n"
     ]
    },
    {
     "data": {
      "text/latex": [
       "\\[ Iteracao 1:\\left[ \\left| \\begin{array}{c} Vars \\\\ Z \\\\X_3\\\\X_4\\\\X_5\\end{array} \\right| \\begin{array}{ccccc} X_1 &  X_2 &  X_3 &  X_4 &  X_5 &  b \\\\-4.00 & -8.00 & 0.00 & 0.00 & 0.00 & 0.00\\\\3.00 & 2.00 & 1.00 & 0.00 & 0.00 & 18.00\\\\1.00 & 1.00 & 0.00 & 1.00 & 0.00 & 5.00\\\\1.00 & 0.00 & 0.00 & 0.00 & 1.00 & 4.00\\\\\\end{array} \\right] \\]"
      ],
      "text/plain": [
       "<IPython.core.display.Latex object>"
      ]
     },
     "metadata": {},
     "output_type": "display_data"
    },
    {
     "data": {
      "text/latex": [
       "\\[ Iteracao 2:\\left[ \\left| \\begin{array}{c} Vars \\\\ Z \\\\X_3\\\\X_2\\\\X_5\\end{array} \\right| \\begin{array}{ccccc} X_1 &  X_2 &  X_3 &  X_4 &  X_5 &  b \\\\4.00 & 0.00 & 0.00 & 8.00 & 0.00 & 40.00\\\\1.00 & 0.00 & 1.00 & -2.00 & 0.00 & 8.00\\\\1.00 & 1.00 & 0.00 & 1.00 & 0.00 & 5.00\\\\1.00 & 0.00 & 0.00 & 0.00 & 1.00 & 4.00\\\\\\end{array} \\right] \\]"
      ],
      "text/plain": [
       "<IPython.core.display.Latex object>"
      ]
     },
     "metadata": {},
     "output_type": "display_data"
    },
    {
     "name": "stdout",
     "output_type": "stream",
     "text": [
      "Exercício 04\n"
     ]
    },
    {
     "data": {
      "text/latex": [
       "\\[ Iteracao 1:\\left[ \\left| \\begin{array}{c} Vars \\\\ Z \\\\X_4\\\\X_5\\end{array} \\right| \\begin{array}{ccccc} X_1 &  X_2 &  X_3 &  X_4 &  X_5 &  b \\\\-16.00 & -6.00 & -15.00 & 0.00 & 0.00 & 0.00\\\\10.00 & 3.00 & 2.00 & 1.00 & 0.00 & 1200.00\\\\5.00 & 2.00 & 5.00 & 0.00 & 1.00 & 2000.00\\\\\\end{array} \\right] \\]"
      ],
      "text/plain": [
       "<IPython.core.display.Latex object>"
      ]
     },
     "metadata": {},
     "output_type": "display_data"
    },
    {
     "data": {
      "text/latex": [
       "\\[ Iteracao 2:\\left[ \\left| \\begin{array}{c} Vars \\\\ Z \\\\X_1\\\\X_5\\end{array} \\right| \\begin{array}{ccccc} X_1 &  X_2 &  X_3 &  X_4 &  X_5 &  b \\\\0.00 & -1.20 & -11.80 & 1.60 & 0.00 & 1920.00\\\\1.00 & 0.30 & 0.20 & 0.10 & 0.00 & 120.00\\\\0.00 & 0.50 & 4.00 & -0.50 & 1.00 & 1400.00\\\\\\end{array} \\right] \\]"
      ],
      "text/plain": [
       "<IPython.core.display.Latex object>"
      ]
     },
     "metadata": {},
     "output_type": "display_data"
    },
    {
     "data": {
      "text/latex": [
       "\\[ Iteracao 3:\\left[ \\left| \\begin{array}{c} Vars \\\\ Z \\\\X_1\\\\X_3\\end{array} \\right| \\begin{array}{ccccc} X_1 &  X_2 &  X_3 &  X_4 &  X_5 &  b \\\\0.00 & 0.28 & 0.00 & 0.12 & 2.95 & 6050.00\\\\1.00 & 0.28 & 0.00 & 0.12 & -0.05 & 50.00\\\\0.00 & 0.12 & 1.00 & -0.12 & 0.25 & 350.00\\\\\\end{array} \\right] \\]"
      ],
      "text/plain": [
       "<IPython.core.display.Latex object>"
      ]
     },
     "metadata": {},
     "output_type": "display_data"
    }
   ],
   "source": [
    "#Exercicio 01\n",
    "print(\"Exercício 01\")\n",
    "Tableau = [[-100, -150, 0, 0,0],[1,1,1,0,10],[1,2,0,1,12]]\n",
    "solver = SOLVER(Tableau)\n",
    "solver.solver(True)\n",
    "print(\"Exercício 02\")\n",
    "#Exercício 02\n",
    "Tableau = [[-4, -3, 0, 0, 0, 0, 0],\n",
    "           [1,3,1,0,0,0,7],\n",
    "           [2,2,0,1,0,0,8],\n",
    "           [1,1,0,0,1,0,3],\n",
    "           [0,1,0,0,0,1,2]]\n",
    "solver = SOLVER(Tableau)\n",
    "solver.solver(True)\n",
    "print(\"Exercício 03\")\n",
    "#Exercício 03\n",
    "Tableau = [[-4,-8, 0, 0, 0, 0],\n",
    "           [3,2,1,0,0,18],\n",
    "           [1,1,0,1,0,5],\n",
    "           [1,0,0,0,1,4]]\n",
    "solver = SOLVER(Tableau)\n",
    "solver.solver(True)\n",
    "\n",
    "#Exercício 04\n",
    "print(\"Exercício 04\")\n",
    "Tableau = [[-16, -6, -15, 0 ,0 , 0],\n",
    "           [10, 3, 2, 1, 0, 1200],\n",
    "           [5,2,5,0,1,2000]]\n",
    "\n",
    "solver = SOLVER(Tableau)\n",
    "solver.solver(True)\n",
    "\n",
    "    "
   ]
  },
  {
   "cell_type": "code",
   "execution_count": 189,
   "metadata": {},
   "outputs": [
    {
     "data": {
      "text/latex": [
       "\\[ Iteracao 1:\\left[ \\left| \\begin{array}{c} Vars \\\\ Z \\\\X_4\\\\X_5\\\\X_6\\end{array} \\right| \\begin{array}{cccccc} X_1 &  X_2 &  X_3 &  X_4 &  X_5 &  X_6 &  b \\\\-4.00 & -4.00 & -7.00 & 0.00 & 0.00 & 0.00 & 0.00\\\\1.00 & 7.00 & 4.00 & 1.00 & 0.00 & 0.00 & 100.00\\\\2.00 & 1.00 & 7.00 & 0.00 & 1.00 & 0.00 & 100.00\\\\8.00 & 4.00 & 1.00 & 0.00 & 0.00 & 1.00 & 100.00\\\\\\end{array} \\right] \\]"
      ],
      "text/plain": [
       "<IPython.core.display.Latex object>"
      ]
     },
     "metadata": {},
     "output_type": "display_data"
    },
    {
     "data": {
      "text/latex": [
       "\\[ Iteracao 2:\\left[ \\left| \\begin{array}{c} Vars \\\\ Z \\\\X_4\\\\X_3\\\\X_6\\end{array} \\right| \\begin{array}{cccccc} X_1 &  X_2 &  X_3 &  X_4 &  X_5 &  X_6 &  b \\\\-2.00 & -3.00 & 0.00 & 0.00 & 1.00 & 0.00 & 100.00\\\\-0.14 & 6.43 & 0.00 & 1.00 & -0.57 & 0.00 & 42.86\\\\0.29 & 0.14 & 1.00 & 0.00 & 0.14 & 0.00 & 14.29\\\\7.71 & 3.86 & 0.00 & 0.00 & -0.14 & 1.00 & 85.71\\\\\\end{array} \\right] \\]"
      ],
      "text/plain": [
       "<IPython.core.display.Latex object>"
      ]
     },
     "metadata": {},
     "output_type": "display_data"
    },
    {
     "data": {
      "text/latex": [
       "\\[ Iteracao 3:\\left[ \\left| \\begin{array}{c} Vars \\\\ Z \\\\X_2\\\\X_3\\\\X_6\\end{array} \\right| \\begin{array}{cccccc} X_1 &  X_2 &  X_3 &  X_4 &  X_5 &  X_6 &  b \\\\-2.07 & 0.00 & 0.00 & 0.47 & 0.73 & 0.00 & 120.00\\\\-0.02 & 1.00 & 0.00 & 0.16 & -0.09 & 0.00 & 6.67\\\\0.29 & 0.00 & 1.00 & -0.02 & 0.16 & 0.00 & 13.33\\\\7.80 & 0.00 & 0.00 & -0.60 & 0.20 & 1.00 & 60.00\\\\\\end{array} \\right] \\]"
      ],
      "text/plain": [
       "<IPython.core.display.Latex object>"
      ]
     },
     "metadata": {},
     "output_type": "display_data"
    },
    {
     "data": {
      "text/latex": [
       "\\[ Iteracao 4:\\left[ \\left| \\begin{array}{c} Vars \\\\ Z \\\\X_2\\\\X_3\\\\X_1\\end{array} \\right| \\begin{array}{cccccc} X_1 &  X_2 &  X_3 &  X_4 &  X_5 &  X_6 &  b \\\\0.00 & 0.00 & 0.00 & 0.31 & 0.79 & 0.26 & 135.90\\\\0.00 & 1.00 & 0.00 & 0.15 & -0.09 & 0.00 & 6.84\\\\0.00 & 0.00 & 1.00 & 0.00 & 0.15 & -0.04 & 11.11\\\\1.00 & 0.00 & 0.00 & -0.08 & 0.03 & 0.13 & 7.69\\\\\\end{array} \\right] \\]"
      ],
      "text/plain": [
       "<IPython.core.display.Latex object>"
      ]
     },
     "metadata": {},
     "output_type": "display_data"
    }
   ],
   "source": [
    "Tableau = [[-4,-4,-7,0,0,0,0],\n",
    "          [1,7,4,1,0,0,100],\n",
    "          [2,1,7,0,1,0,100],\n",
    "          [8,4,1,0,0,1,100]]\n",
    "solver = SOLVER(Tableau)\n",
    "solver.solver(True)"
   ]
  }
 ],
 "metadata": {
  "kernelspec": {
   "display_name": "Python 3",
   "language": "python",
   "name": "python3"
  },
  "language_info": {
   "codemirror_mode": {
    "name": "ipython",
    "version": 3
   },
   "file_extension": ".py",
   "mimetype": "text/x-python",
   "name": "python",
   "nbconvert_exporter": "python",
   "pygments_lexer": "ipython3",
   "version": "3.7.6"
  }
 },
 "nbformat": 4,
 "nbformat_minor": 4
}
