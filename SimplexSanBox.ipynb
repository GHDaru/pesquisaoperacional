{
 "cells": [
  {
   "cell_type": "code",
   "execution_count": 143,
   "metadata": {},
   "outputs": [],
   "source": [
    "from IPython.display import display, Markdown, Latex"
   ]
  },
  {
   "cell_type": "code",
   "execution_count": 149,
   "metadata": {},
   "outputs": [],
   "source": [
    "Tableau = [[-100, -150, 0, 0,0],[1,1,1,0,10],[1,2,0,1,12]]\n",
    "def transformacao(L1, L2, c=1):\n",
    "    TamLinha = len(L1)\n",
    "    NovaLinha = [0 for i in range(0,TamLinha)]\n",
    "    for i in range(0,TamLinha):\n",
    "        NovaLinha[i] = L1[i] + c*L2[i]\n",
    "    return NovaLinha\n",
    "\n",
    "def multescalar(L,c):\n",
    "    TamLinha = len(L)\n",
    "    NovaLinha = [0 for i in range(0,TamLinha)]\n",
    "    for i in range(0,TamLinha):\n",
    "        NovaLinha[i] = L[i]*c\n",
    "    return NovaLinha\n",
    "\n",
    "def iteracao(Tableau, linhapivo, colunapivo):\n",
    "    numlinhas = len(Tableau)\n",
    "    numcolunas = len(Tableau[0])\n",
    "    TN = Tableau.copy()\n",
    "    TN[linhapivo] = multescalar(TN[linhapivo], 1/TN[linhapivo][colunapivo])\n",
    "    for i in range(numlinhas):\n",
    "        if i != linhapivo and TN[i][colunapivo]!=0:\n",
    "            TN[i] = transformacao(TN[i],TN[linhapivo],-TN[i][colunapivo])\n",
    "    return TN\n",
    "\n",
    "def checkotimalidade(Tableau):\n",
    "    if min(Tableau[0]) < 0:\n",
    "        return False\n",
    "    else:\n",
    "        return True\n",
    "\n",
    "def pivo(Tableau):\n",
    "    numlinhas = len(Tableau)\n",
    "    colunapivo = Tableau[0].index(min(Tableau[0]))\n",
    "    b = [linha[-1] for linha in Tableau]\n",
    "    col = [linha[colunapivo] for linha in Tableau]\n",
    "    linhapivo = 1\n",
    "    menor = -1\n",
    "    for lin in range(1,numlinhas):\n",
    "        if col[lin] > 0:\n",
    "            temp = b[lin]/col[lin]\n",
    "            if menor < 0 or temp < menor:\n",
    "                linhapivo = lin\n",
    "                menor = temp\n",
    "    return linhapivo, colunapivo\n",
    "\n",
    "def solver(Tableau):\n",
    "    TN = Tableau.copy()\n",
    "    while not checkotimalidade(TN):\n",
    "        linhapivo, colunapivo = pivo(TN)\n",
    "        TN = iteracao(TN, linhapivo, colunapivo)\n",
    "    return TN\n",
    "\n",
    "def printsolucao(Tableau):\n",
    "    tol = 0.00001\n",
    "    numlinhas = len(Tableau)\n",
    "    numcolunas = len(Tableau[0])\n",
    "    nv = numcolunas - numlinhas\n",
    "    for v in range(nv):\n",
    "        col = [linha[v] for linha in Tableau]\n",
    "        if abs(sum(col)-1) < tol:\n",
    "            valor = Tableau[col.index(1.0)][-1]\n",
    "        else:\n",
    "            valor = 0\n",
    "        print(\"X \",v + 1,\" = \", valor)\n",
    "    print(\"Valor ótimo\", Tableau[0][-1])\n",
    "    printmatrix(Tableau)\n",
    "    \n",
    "def printmatrix(Tableau):\n",
    "    numlinhas = len(Tableau)\n",
    "    numcolunas = len(Tableau[0])\n",
    "    code = r'$\\begin{bmatrix}'\n",
    "    for i in range(numlinhas):\n",
    "        for j in range(numcolunas):\n",
    "            code += '{:.2f}'.format(Tableau[i][j]) \n",
    "            code += r' & ' if j<numcolunas-1 else r'\\\\'\n",
    "    code+= '\\end{bmatrix}$'\n",
    "    display(Latex(code))\n",
    "\n",
    "\n",
    "\n"
   ]
  },
  {
   "cell_type": "code",
   "execution_count": 21,
   "metadata": {},
   "outputs": [
    {
     "name": "stdout",
     "output_type": "stream",
     "text": [
      "Tableau após 1a iteração:\n",
      "[-25.0, 0.0, 0.0, 75.0, 900.0]\n",
      "[0.5, 0.0, 1.0, -0.5, 4.0]\n",
      "[0.5, 1.0, 0.0, 0.5, 6.0]\n"
     ]
    }
   ],
   "source": [
    "#Iteração 01\n",
    "TN = Tableau.copy()\n",
    "#transformar o elemento pivo para 1\n",
    "TN[2] = multescalar(TN[2],1/2)\n",
    "#transformar elementos da coluna do pivo em zero\n",
    "TN[0] = transformacao(TN[0],TN[2],150)\n",
    "TN[1] = transformacao(TN[1],TN[2],-1)\n",
    "print('Tableau após 1a iteração:')\n",
    "for l in TN:\n",
    "    print(l)\n",
    "TN_old = TN.copy()"
   ]
  },
  {
   "cell_type": "code",
   "execution_count": 31,
   "metadata": {},
   "outputs": [
    {
     "name": "stdout",
     "output_type": "stream",
     "text": [
      "Tableau após 2a iteração:\n",
      "[0.0, 0.0, 50.0, 50.0, 1100.0]\n",
      "[1.0, 0.0, 2.0, -1.0, 8.0]\n",
      "[0.0, 1.0, -1.0, 1.0, 2.0]\n"
     ]
    }
   ],
   "source": [
    "#Iteração 02\n",
    "TN = TN_old.copy()\n",
    "#transformar o elemento pivo para 1\n",
    "TN[1] = multescalar(TN[1],2)\n",
    "#transformar elementos da coluna do pivo em zero\n",
    "TN[0] = transformacao(TN[0],TN[1],25)\n",
    "TN[2] = transformacao(TN[2],TN[1],-0.5)\n",
    "print('Tableau após 2a iteração:')\n",
    "for l in TN:\n",
    "    print(l)"
   ]
  },
  {
   "cell_type": "markdown",
   "metadata": {},
   "source": [
    "Tableau = []  \n",
    "Transformar pivo para 1 multescalar  \n",
    "Transformar todos os elementos da coluna do pivo em zero transformacao  \n",
    "Ler dicionário, verificar otimalidade  \n",
    "Se não ótimo retornar para o início  \n"
   ]
  },
  {
   "cell_type": "code",
   "execution_count": 38,
   "metadata": {},
   "outputs": [
    {
     "data": {
      "text/plain": [
       "[[-4, -3, 0, 0, 0, 0, 0],\n",
       " [1, 3, 1, 0, 0, 0, 7],\n",
       " [2, 2, 0, 1, 0, 0, 8],\n",
       " [1, 1, 0, 0, 1, 0, 3],\n",
       " [0, 1, 0, 0, 0, 1, 2]]"
      ]
     },
     "execution_count": 38,
     "metadata": {},
     "output_type": "execute_result"
    }
   ],
   "source": [
    "Tableau = [[-4, -3, 0, 0, 0, 0, 0],\n",
    "           [1,3,1,0,0,0,7],\n",
    "           [2,2,0,1,0,0,8],\n",
    "           [1,1,0,0,1,0,3],\n",
    "           [0,1,0,0,0,1,2]]"
   ]
  },
  {
   "cell_type": "code",
   "execution_count": 51,
   "metadata": {},
   "outputs": [
    {
     "data": {
      "text/plain": [
       "[[0.0, 1.0, 0.0, 0.0, 4.0, 0.0, 12.0],\n",
       " [0.0, 2.0, 1.0, 0.0, -1.0, 0.0, 4.0],\n",
       " [0.0, 0.0, 0.0, 1.0, -2.0, 0.0, 2.0],\n",
       " [1.0, 1.0, 0.0, 0.0, 1.0, 0.0, 3.0],\n",
       " [0, 1, 0, 0, 0, 1, 2]]"
      ]
     },
     "execution_count": 51,
     "metadata": {},
     "output_type": "execute_result"
    }
   ],
   "source": [
    "iteracao(Tableau,3,0)"
   ]
  },
  {
   "cell_type": "code",
   "execution_count": 55,
   "metadata": {},
   "outputs": [
    {
     "data": {
      "text/plain": [
       "[[4.0, 0.0, 0.0, 8.0, 0.0, 40.0],\n",
       " [1.0, 0.0, 1.0, -2.0, 0.0, 8.0],\n",
       " [1.0, 1.0, 0.0, 1.0, 0.0, 5.0],\n",
       " [1, 0, 0, 0, 1, 4]]"
      ]
     },
     "execution_count": 55,
     "metadata": {},
     "output_type": "execute_result"
    }
   ],
   "source": [
    "#Questão 02\n",
    "Tableau = [[-4,-8, 0, 0, 0, 0],\n",
    "           [3,2,1,0,0,18],\n",
    "           [1,1,0,1,0,5],\n",
    "           [1,0,0,0,1,4]]\n",
    "\n",
    "TN = iteracao(Tableau,2, 1)\n",
    "TN"
   ]
  },
  {
   "cell_type": "code",
   "execution_count": 99,
   "metadata": {},
   "outputs": [
    {
     "name": "stdout",
     "output_type": "stream",
     "text": [
      "False\n",
      "False\n",
      "True\n"
     ]
    }
   ],
   "source": [
    "#Questão 04\n",
    "Tableau = [[-16, -6, -15, 0 ,0 , 0],\n",
    "           [10, 3, 2, 1, 0, 1200],\n",
    "           [5,2,5,0,1,2000]]\n",
    "\n",
    "print(checkotimalidade(Tableau))\n",
    "TN = iteracao(Tableau, 1, 0)\n",
    "print(checkotimalidade(TN))\n",
    "TN = iteracao(TN, 2, 2)\n",
    "print(checkotimalidade(TN))"
   ]
  },
  {
   "cell_type": "code",
   "execution_count": 150,
   "metadata": {},
   "outputs": [
    {
     "name": "stdout",
     "output_type": "stream",
     "text": [
      "X  1  =  8.0\n",
      "X  2  =  2.0\n",
      "Valor ótimo 1100.0\n"
     ]
    },
    {
     "data": {
      "text/latex": [
       "$\\begin{bmatrix}0.00 & 0.00 & 50.00 & 50.00 & 1100.00\\\\1.00 & 0.00 & 2.00 & -1.00 & 8.00\\\\0.00 & 1.00 & -1.00 & 1.00 & 2.00\\\\\\end{bmatrix}$"
      ],
      "text/plain": [
       "<IPython.core.display.Latex object>"
      ]
     },
     "metadata": {},
     "output_type": "display_data"
    },
    {
     "name": "stdout",
     "output_type": "stream",
     "text": [
      "X  1  =  3.0\n",
      "X  2  =  0\n",
      "Valor ótimo 12.0\n"
     ]
    },
    {
     "data": {
      "text/latex": [
       "$\\begin{bmatrix}0.00 & 1.00 & 0.00 & 0.00 & 4.00 & 0.00 & 12.00\\\\0.00 & 2.00 & 1.00 & 0.00 & -1.00 & 0.00 & 4.00\\\\0.00 & 0.00 & 0.00 & 1.00 & -2.00 & 0.00 & 2.00\\\\1.00 & 1.00 & 0.00 & 0.00 & 1.00 & 0.00 & 3.00\\\\0.00 & 1.00 & 0.00 & 0.00 & 0.00 & 1.00 & 2.00\\\\\\end{bmatrix}$"
      ],
      "text/plain": [
       "<IPython.core.display.Latex object>"
      ]
     },
     "metadata": {},
     "output_type": "display_data"
    },
    {
     "name": "stdout",
     "output_type": "stream",
     "text": [
      "X  1  =  0\n",
      "X  2  =  5.0\n",
      "Valor ótimo 40.0\n"
     ]
    },
    {
     "data": {
      "text/latex": [
       "$\\begin{bmatrix}4.00 & 0.00 & 0.00 & 8.00 & 0.00 & 40.00\\\\1.00 & 0.00 & 1.00 & -2.00 & 0.00 & 8.00\\\\1.00 & 1.00 & 0.00 & 1.00 & 0.00 & 5.00\\\\1.00 & 0.00 & 0.00 & 0.00 & 1.00 & 4.00\\\\\\end{bmatrix}$"
      ],
      "text/plain": [
       "<IPython.core.display.Latex object>"
      ]
     },
     "metadata": {},
     "output_type": "display_data"
    },
    {
     "name": "stdout",
     "output_type": "stream",
     "text": [
      "X  1  =  50.0\n",
      "X  2  =  0\n",
      "X  3  =  350.0\n",
      "Valor ótimo 6050.0\n"
     ]
    },
    {
     "data": {
      "text/latex": [
       "$\\begin{bmatrix}0.00 & 0.28 & 0.00 & 0.12 & 2.95 & 6050.00\\\\1.00 & 0.28 & 0.00 & 0.12 & -0.05 & 50.00\\\\0.00 & 0.12 & 1.00 & -0.12 & 0.25 & 350.00\\\\\\end{bmatrix}$"
      ],
      "text/plain": [
       "<IPython.core.display.Latex object>"
      ]
     },
     "metadata": {},
     "output_type": "display_data"
    }
   ],
   "source": [
    "#Exercicio 01\n",
    "Tableau = [[-100, -150, 0, 0,0],[1,1,1,0,10],[1,2,0,1,12]]\n",
    "printsolucao(solver(Tableau))\n",
    "#Exercício 02\n",
    "Tableau = [[-4, -3, 0, 0, 0, 0, 0],\n",
    "           [1,3,1,0,0,0,7],\n",
    "           [2,2,0,1,0,0,8],\n",
    "           [1,1,0,0,1,0,3],\n",
    "           [0,1,0,0,0,1,2]]\n",
    "\n",
    "printsolucao(solver(Tableau))\n",
    "#Exercício 03\n",
    "Tableau = [[-4,-8, 0, 0, 0, 0],\n",
    "           [3,2,1,0,0,18],\n",
    "           [1,1,0,1,0,5],\n",
    "           [1,0,0,0,1,4]]\n",
    "printsolucao(solver(Tableau))\n",
    "Tableau = [[-16, -6, -15, 0 ,0 , 0],\n",
    "           [10, 3, 2, 1, 0, 1200],\n",
    "           [5,2,5,0,1,2000]]\n",
    "printsolucao(solver(Tableau))\n",
    "\n",
    "    "
   ]
  },
  {
   "cell_type": "code",
   "execution_count": 114,
   "metadata": {},
   "outputs": [
    {
     "name": "stdout",
     "output_type": "stream",
     "text": [
      "X  0  =  50.0\n",
      "X  1  =  0\n",
      "X  2  =  350.0\n",
      "Valor ótimo 6050.0\n"
     ]
    }
   ],
   "source": [
    "Tableau = [[-16, -6, -15, 0 ,0 , 0],\n",
    "           [10, 3, 2, 1, 0, 1200],\n",
    "           [5,2,5,0,1,2000]]\n",
    "Tableau = solver(Tableau)\n",
    "numlinhas = len(Tableau)\n",
    "numcolunas = len(Tableau[0])\n",
    "nv = numcolunas - numlinhas\n",
    "for v in range(nv):\n",
    "    col = [linha[v] for linha in Tableau]\n",
    "    if abs(sum(col) - 1) < tolerance:\n",
    "        valor = Tableau[col.index(1.0)][-1]\n",
    "    else:\n",
    "        valor = 0\n",
    "    print(\"X \",v,\" = \", valor)\n",
    "print(\"Valor ótimo\", Tableau[0][-1])"
   ]
  },
  {
   "cell_type": "code",
   "execution_count": 129,
   "metadata": {},
   "outputs": [
    {
     "name": "stdout",
     "output_type": "stream",
     "text": [
      "X  0  =  2.0\n",
      "X  1  =  13.0\n",
      "X  2  =  1.0\n",
      "Valor ótimo 13.0\n"
     ]
    },
    {
     "data": {
      "text/plain": [
       "[[0.0, 1.0, 0.0, 1.0, 0.0, 1.0, 13.0],\n",
       " [1.0, 4.0, 0.0, 2.0, 0.0, -1.0, 2.0],\n",
       " [0.0, -4.0, 0.0, -2.0, 1.0, 0.0, 1.0],\n",
       " [0.0, -5.0, 1.0, -3.0, 0.0, 2.0, 1.0]]"
      ]
     },
     "execution_count": 129,
     "metadata": {},
     "output_type": "execute_result"
    }
   ],
   "source": [
    "Tableau = [[-5, -4, -3, 0, 0, 0, 0],\n",
    "           [2,3,1,1,0,0,5],\n",
    "           [4,2,2,0,1,0,11],\n",
    "           [3,2,2,0,0,1,8]]\n",
    "printsolucao(solver(Tableau))\n",
    "solver(Tableau)"
   ]
  },
  {
   "cell_type": "code",
   "execution_count": 145,
   "metadata": {},
   "outputs": [
    {
     "name": "stdout",
     "output_type": "stream",
     "text": [
      "X  0  =  7.692307692307694\n",
      "X  1  =  6.837606837606838\n",
      "X  2  =  11.111111111111109\n",
      "Valor ótimo 135.8974358974359\n"
     ]
    },
    {
     "data": {
      "text/latex": [
       "$\\begin{bmatrix}0.00 & 0.00 & 0.00 & 0.31 & 0.79 & 0.26 & 135.90\\\\0.00 & 1.00 & 0.00 & 0.15 & -0.09 & 0.00 & 6.84\\\\0.00 & 0.00 & 1.00 & 0.00 & 0.15 & -0.04 & 11.11\\\\1.00 & 0.00 & 0.00 & -0.08 & 0.03 & 0.13 & 7.69\\\\\\end{bmatrix}$"
      ],
      "text/plain": [
       "<IPython.core.display.Latex object>"
      ]
     },
     "metadata": {},
     "output_type": "display_data"
    }
   ],
   "source": [
    "Tableau = [[-4,-4,-7,0,0,0,0],\n",
    "           [1,7,4,1,0,0,100],\n",
    "           [2,1,7,0,1,0,100],\n",
    "           [8,4,1,0,0,1,100]]\n",
    "printsolucao(solver(Tableau))\n",
    "TN = solver(Tableau)\n",
    "printmatrix(TN)\n",
    "    "
   ]
  },
  {
   "cell_type": "code",
   "execution_count": 142,
   "metadata": {},
   "outputs": [
    {
     "data": {
      "text/latex": [
       "$\\begin{bmatrix}-100.00 & -150.00 & 0.00 & 0.00 & 0.00\\\\1.00 & 1.00 & 1.00 & 0.00 & 10.00\\\\1.00 & 2.00 & 0.00 & 1.00 & 12.00\\\\\\end{bmatrix}$"
      ],
      "text/plain": [
       "<IPython.core.display.Latex object>"
      ]
     },
     "metadata": {},
     "output_type": "display_data"
    }
   ],
   "source": [
    "Tableau = [[-100, -150, 0, 0,0],[1,1,1,0,10],[1,2,0,1,12]]\n",
    "def printmatrix(Tableau):\n",
    "    numlinhas = len(Tableau)\n",
    "    numcolunas = len(Tableau[0])\n",
    "    code = r'$\\begin{bmatrix}'\n",
    "    for i in range(numlinhas):\n",
    "        for j in range(numcolunas):\n",
    "            code += '{:.2f}'.format(Tableau[i][j]) \n",
    "            code += r' & ' if j<numcolunas-1 else r'\\\\'\n",
    "    code+= '\\end{bmatrix}$'\n",
    "    display(Latex(code))\n",
    "    "
   ]
  },
  {
   "cell_type": "markdown",
   "metadata": {},
   "source": [
    "'$\\begin{bmatrix} -16 & -6 & -15 & 0 & 0 & 0 \\\\ 10 & 3 & 2 & 1 & 0 & 1200 \\\\ 5 & 2 & 5 & 0 & 1 & 2000 end{bmatrix}$'"
   ]
  },
  {
   "cell_type": "code",
   "execution_count": 133,
   "metadata": {},
   "outputs": [
    {
     "data": {
      "text/markdown": [
       "*some markdown* $\\phi$"
      ],
      "text/plain": [
       "<IPython.core.display.Markdown object>"
      ]
     },
     "metadata": {},
     "output_type": "display_data"
    },
    {
     "data": {
      "text/latex": [
       "\\phi"
      ],
      "text/plain": [
       "<IPython.core.display.Latex object>"
      ]
     },
     "metadata": {},
     "output_type": "display_data"
    }
   ],
   "source": [
    "from IPython.display import display, Markdown, Latex\n",
    "display(Markdown('*some markdown* $\\phi$'))\n",
    "# If you particularly want to display maths, this is more direct:\n",
    "display(Latex('\\phi'))"
   ]
  },
  {
   "cell_type": "markdown",
   "metadata": {},
   "source": [
    "'$\\begin{bmatrix}-16 & -6 & -15 & 0 & 0 & 010 & 3 & 2 & 1 & 0 & 12005 & 2 & 5 & 0 & 1 & 2000\\end{bmatrix}$'"
   ]
  }
 ],
 "metadata": {
  "kernelspec": {
   "display_name": "Python 3",
   "language": "python",
   "name": "python3"
  },
  "language_info": {
   "codemirror_mode": {
    "name": "ipython",
    "version": 3
   },
   "file_extension": ".py",
   "mimetype": "text/x-python",
   "name": "python",
   "nbconvert_exporter": "python",
   "pygments_lexer": "ipython3",
   "version": "3.7.6"
  }
 },
 "nbformat": 4,
 "nbformat_minor": 4
}
